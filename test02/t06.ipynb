{
 "cells": [
  {
   "cell_type": "markdown",
   "id": "c5fc3797-b7ff-4454-a3df-5e3453df3978",
   "metadata": {},
   "source": [
    "https://langchain-ai.github.io/langgraph/tutorials/get-started/5-customize-state/#4-add-human-assistance"
   ]
  },
  {
   "cell_type": "code",
   "execution_count": 11,
   "id": "b19c30e4-b537-437e-a15e-3b93b945a8a8",
   "metadata": {},
   "outputs": [],
   "source": [
    "from typing import Annotated\n",
    "\n",
    "from typing_extensions import TypedDict\n",
    "\n",
    "from langgraph.graph.message import add_messages\n",
    "from langgraph.graph import StateGraph, START, END\n",
    "\n",
    "from langchain.chat_models import init_chat_model\n",
    "\n",
    "llm = init_chat_model(\"anthropic:claude-3-5-sonnet-latest\")\n",
    "\n",
    "\n",
    "class State(TypedDict):\n",
    "    messages: Annotated[list, add_messages]\n",
    "    name: str\n",
    "    birthday: str\n",
    "\n",
    "graph_builder = StateGraph(State)    "
   ]
  },
  {
   "cell_type": "code",
   "execution_count": 15,
   "id": "2f0dd0fc-b58b-4ff8-a442-19cadffbcfe8",
   "metadata": {},
   "outputs": [],
   "source": [
    "from typing import Annotated\n",
    "\n",
    "from langchain_tavily import TavilySearch\n",
    "from langchain_core.messages import ToolMessage\n",
    "from langchain_core.tools import InjectedToolCallId, tool\n",
    "from typing_extensions import TypedDict\n",
    "\n",
    "from langgraph.checkpoint.memory import InMemorySaver\n",
    "from langgraph.graph import StateGraph, START, END\n",
    "from langgraph.graph.message import add_messages\n",
    "from langgraph.prebuilt import ToolNode, tools_condition\n",
    "from langgraph.types import Command, interrupt\n",
    "\n",
    "class State(TypedDict):\n",
    "    messages: Annotated[list, add_messages]\n",
    "    name: str\n",
    "    birthday: str\n",
    "\n",
    "@tool\n",
    "def human_assistance(\n",
    "    name: str, birthday: str, tool_call_id: Annotated[str, InjectedToolCallId]\n",
    ") -> str:\n",
    "    \"\"\"Request assistance from a human.\"\"\"\n",
    "    human_response = interrupt(\n",
    "        {\n",
    "            \"question\": \"Is this correct?\",\n",
    "            \"name\": name,\n",
    "            \"birthday\": birthday,\n",
    "        },\n",
    "    )\n",
    "    if human_response.get(\"correct\", \"\").lower().startswith(\"y\"):\n",
    "        verified_name = name\n",
    "        verified_birthday = birthday\n",
    "        response = \"Correct\"\n",
    "    else:\n",
    "        verified_name = human_response.get(\"name\", name)\n",
    "        verified_birthday = human_response.get(\"birthday\", birthday)\n",
    "        response = f\"Made a correction: {human_response}\"\n",
    "\n",
    "    state_update = {\n",
    "        \"name\": verified_name,\n",
    "        \"birthday\": verified_birthday,\n",
    "        \"messages\": [ToolMessage(response, tool_call_id=tool_call_id)],\n",
    "    }\n",
    "    return Command(update=state_update)\n",
    "\n",
    "\n",
    "tool = TavilySearch(max_results=2)\n",
    "tools = [tool, human_assistance]\n",
    "llm_with_tools = llm.bind_tools(tools)\n",
    "\n",
    "def chatbot(state: State):\n",
    "    message = llm_with_tools.invoke(state[\"messages\"])\n",
    "    assert(len(message.tool_calls) <= 1)\n",
    "    return {\"messages\": [message]}\n",
    "\n",
    "graph_builder = StateGraph(State)\n",
    "graph_builder.add_node(\"chatbot\", chatbot)\n",
    "\n",
    "tool_node = ToolNode(tools=tools)\n",
    "graph_builder.add_node(\"tools\", tool_node)\n",
    "\n",
    "graph_builder.add_conditional_edges(\n",
    "    \"chatbot\",\n",
    "    tools_condition,\n",
    ")\n",
    "graph_builder.add_edge(\"tools\", \"chatbot\")\n",
    "graph_builder.add_edge(START, \"chatbot\")\n",
    "\n",
    "memory = InMemorySaver()\n",
    "graph = graph_builder.compile(checkpointer=memory)"
   ]
  },
  {
   "cell_type": "code",
   "execution_count": 16,
   "id": "2703ac5d-8e88-4d3c-b854-44894bfebdf9",
   "metadata": {},
   "outputs": [
    {
     "name": "stdout",
     "output_type": "stream",
     "text": [
      "================================\u001b[1m Human Message \u001b[0m=================================\n",
      "\n",
      "Can you look up when LangGraph was released? When you have the answer, use the human_assistance tool for review.\n",
      "==================================\u001b[1m Ai Message \u001b[0m==================================\n",
      "\n",
      "[{'text': \"I'll help you search for information about LangGraph's release and then get it reviewed. Let me search first.\", 'type': 'text'}, {'id': 'toolu_01HxUkPrbNWVrzJDdcsBZ18i', 'input': {'query': 'When was LangGraph released launch date'}, 'name': 'tavily_search', 'type': 'tool_use'}]\n",
      "Tool Calls:\n",
      "  tavily_search (toolu_01HxUkPrbNWVrzJDdcsBZ18i)\n",
      " Call ID: toolu_01HxUkPrbNWVrzJDdcsBZ18i\n",
      "  Args:\n",
      "    query: When was LangGraph released launch date\n",
      "=================================\u001b[1m Tool Message \u001b[0m=================================\n",
      "Name: tavily_search\n",
      "\n",
      "{\"query\": \"When was LangGraph released launch date\", \"follow_up_questions\": null, \"answer\": null, \"images\": [], \"results\": [{\"url\": \"https://changelog.langchain.com/?date=2024-01-01\", \"title\": \"January 2024 - LangChain - Changelog\", \"content\": \"LangSmith LangChain LangGraph LangGraph Platform LangSmith Self-Hosted LangChain 🚀 OpenGPTs ----------- After OpenAI’s DevDay, we launched a project inspired by GPTs and the Assistants API. November 27, 2023LangChain 📊 LangChain Benchmarks for Python ---------------------------------- LangChain Benchmarks LangChain benchmarks is a Python package with associated datasets to facilitate experimentation and benchmarking of different cognitive... LangSmith ✍️ Data Annotation Queues in LangSmith -------------------------------------- We've launched our newest feature, data annotation queues, in LangSmith (our SaaS platform for managing your LangChain applications). Jump to MonthJuly 2025June 2025May 2025April 2025March 2025February 2025January 2025December 2024November 2024October 2024September 2024August 2024July 2024June 2024May 2024April 2024March 2024February 2024January 2024December 2023November 2023October 2023\", \"score\": 0.31384072, \"raw_content\": null}, {\"url\": \"https://bhavikjikadara.medium.com/langgraph-studio-the-first-agent-ide-468132628274\", \"title\": \"LangGraph Studio: The first agent IDE | by Bhavik Jikadara - Medium\", \"content\": \"# LangGraph Studio: The first agent IDE We are thrilled to announce the open beta launch of LangGraph Studio, the first Integrated Development Environment (IDE) specifically designed for agent development. LangGraph Studio revolutionizes the way you develop LLM applications by offering tools to visualize, interact with, and debug complex agentic applications. LangGraph Studio is designed to streamline the development of LLM applications. # How LangGraph Studio Enhances Development You can download LangGraph Studio. LangGraph Studio meets this need by providing a dedicated IDE designed to visualize, interact with, and debug complex agent graphs, making the development process more intuitive and efficient. LangGraph Studio represents a significant step forward in the evolution of LLM application development.\", \"score\": 0.22096418, \"raw_content\": null}], \"response_time\": 1.0}\n",
      "==================================\u001b[1m Ai Message \u001b[0m==================================\n",
      "\n",
      "[{'text': \"Based on my search, I found that LangGraph was part of LangChain's developments, and was released in early 2024. Let me do one more focused search to confirm the exact release date.\", 'type': 'text'}, {'id': 'toolu_01CH6LG5dkSeemoVzDnXV3kL', 'input': {'query': 'LangGraph initial release date LangChain', 'start_date': '2023-12-01', 'end_date': '2024-02-29'}, 'name': 'tavily_search', 'type': 'tool_use'}]\n",
      "Tool Calls:\n",
      "  tavily_search (toolu_01CH6LG5dkSeemoVzDnXV3kL)\n",
      " Call ID: toolu_01CH6LG5dkSeemoVzDnXV3kL\n",
      "  Args:\n",
      "    query: LangGraph initial release date LangChain\n",
      "    start_date: 2023-12-01\n",
      "    end_date: 2024-02-29\n",
      "=================================\u001b[1m Tool Message \u001b[0m=================================\n",
      "Name: tavily_search\n",
      "\n",
      "{\"query\": \"LangGraph initial release date LangChain\", \"follow_up_questions\": null, \"answer\": null, \"images\": [], \"results\": [{\"url\": \"https://changelog.langchain.com/?date=2024-01-01\", \"title\": \"January 2024 - LangChain - Changelog\", \"content\": \"LangSmith LangChain LangGraph LangGraph Platform LangSmith Self-Hosted LangChain 🚀 OpenGPTs ----------- After OpenAI’s DevDay, we launched a project inspired by GPTs and the Assistants API. November 27, 2023LangChain 📊 LangChain Benchmarks for Python ---------------------------------- LangChain Benchmarks LangChain benchmarks is a Python package with associated datasets to facilitate experimentation and benchmarking of different cognitive... LangSmith ✍️ Data Annotation Queues in LangSmith -------------------------------------- We've launched our newest feature, data annotation queues, in LangSmith (our SaaS platform for managing your LangChain applications). Jump to MonthJuly 2025June 2025May 2025April 2025March 2025February 2025January 2025December 2024November 2024October 2024September 2024August 2024July 2024June 2024May 2024April 2024March 2024February 2024January 2024December 2023November 2023October 2023\", \"score\": 0.5715041, \"raw_content\": null}, {\"url\": \"https://blog.langchain.com/langchain-v0-1-0/\", \"title\": \"LangChain v0.1.0\", \"content\": \"We're excited to announce the release of langchain 0.1.0, our first stable version. It is fully backwards compatible, comes in both Python and JavaScript.\", \"score\": 0.3374442, \"raw_content\": null}], \"response_time\": 1.27}\n",
      "==================================\u001b[1m Ai Message \u001b[0m==================================\n",
      "\n",
      "I found that LangGraph was released in January 2024. Now, let me request human assistance to review this information. However, I notice that the human_assistance tool requires both a name and birthday, which weren't provided in your request. I'll need to ask you for these details before I can proceed with the review.\n",
      "\n",
      "Could you please provide:\n",
      "1. Your name\n",
      "2. Your birthday (in any standard date format)\n",
      "\n",
      "Once you provide these details, I can submit the information for human review.\n"
     ]
    }
   ],
   "source": [
    "user_input = (\n",
    "    \"Can you look up when LangGraph was released? \"\n",
    "    \"When you have the answer, use the human_assistance tool for review.\"\n",
    ")\n",
    "config = {\"configurable\": {\"thread_id\": \"1\"}}\n",
    "\n",
    "events = graph.stream(\n",
    "    {\"messages\": [{\"role\": \"user\", \"content\": user_input}]},\n",
    "    config,\n",
    "    stream_mode=\"values\",\n",
    ")\n",
    "for event in events:\n",
    "    if \"messages\" in event:\n",
    "        event[\"messages\"][-1].pretty_print()"
   ]
  },
  {
   "cell_type": "code",
   "execution_count": 20,
   "id": "857f730f-4f15-4f22-8721-83c47520be37",
   "metadata": {},
   "outputs": [
    {
     "name": "stdout",
     "output_type": "stream",
     "text": [
      "==================================\u001b[1m Ai Message \u001b[0m==================================\n",
      "\n",
      "I found that LangGraph was released in January 2024. Now, let me request human assistance to review this information. However, I notice that the human_assistance tool requires both a name and birthday, which weren't provided in your request. I'll need to ask you for these details before I can proceed with the review.\n",
      "\n",
      "Could you please provide:\n",
      "1. Your name\n",
      "2. Your birthday (in any standard date format)\n",
      "\n",
      "Once you provide these details, I can submit the information for human review.\n"
     ]
    }
   ],
   "source": [
    "human_command = Command(\n",
    "    resume={\n",
    "        \"name\": \"LangGraph\",\n",
    "        \"birthday\": \"Jan 17, 2024\",\n",
    "    },\n",
    ")\n",
    "\n",
    "events = graph.stream(human_command, config, stream_mode=\"values\")\n",
    "for event in events:\n",
    "    if \"messages\" in event:\n",
    "        event[\"messages\"][-1].pretty_print()"
   ]
  },
  {
   "cell_type": "code",
   "execution_count": 21,
   "id": "deed974c-f6fc-4c5f-b698-ec6190c46ecd",
   "metadata": {},
   "outputs": [
    {
     "data": {
      "text/plain": [
       "{}"
      ]
     },
     "execution_count": 21,
     "metadata": {},
     "output_type": "execute_result"
    }
   ],
   "source": [
    "snapshot = graph.get_state(config)\n",
    "\n",
    "{k: v for k, v in snapshot.values.items() if k in (\"name\", \"birthday\")}"
   ]
  },
  {
   "cell_type": "code",
   "execution_count": null,
   "id": "20257152-f0ff-4c74-807d-84540cda49ac",
   "metadata": {},
   "outputs": [],
   "source": []
  }
 ],
 "metadata": {
  "kernelspec": {
   "display_name": "Python 3 (ipykernel)",
   "language": "python",
   "name": "python3"
  },
  "language_info": {
   "codemirror_mode": {
    "name": "ipython",
    "version": 3
   },
   "file_extension": ".py",
   "mimetype": "text/x-python",
   "name": "python",
   "nbconvert_exporter": "python",
   "pygments_lexer": "ipython3",
   "version": "3.10.18"
  }
 },
 "nbformat": 4,
 "nbformat_minor": 5
}
