{
 "cells": [
  {
   "cell_type": "code",
   "execution_count": 1,
   "id": "76479b4a-2fd7-4add-87d5-2e5c963abb6e",
   "metadata": {},
   "outputs": [
    {
     "data": {
      "text/plain": [
       "{'query': \"What's a 'node' in LangGraph?\",\n",
       " 'follow_up_questions': None,\n",
       " 'answer': None,\n",
       " 'images': [],\n",
       " 'results': [{'url': 'https://www.ionio.ai/blog/a-comprehensive-guide-about-langgraph-code-included',\n",
       "   'title': 'A Comprehensive Guide About Langgraph: Code Included - Ionio',\n",
       "   'content': 'A node can be any function or tool your agent uses in langgraph and these nodes are connected with other nodes using edges. Every workflow ends with a “END” node in langgraph which shows the end of workflow. You also need to define a starting node which will be the starting point of your workflow.',\n",
       "   'score': 0.9049283,\n",
       "   'raw_content': None},\n",
       "  {'url': 'https://medium.com/@cplog/introduction-to-langgraph-a-beginners-guide-14f9be027141',\n",
       "   'title': \"Introduction to LangGraph: A Beginner's Guide - Medium\",\n",
       "   'content': '*   **Stateful Graph:** LangGraph revolves around the concept of a stateful graph, where each node in the graph represents a step in your computation, and the graph maintains a state that is passed around and updated as the computation progresses. LangGraph supports conditional edges, allowing you to dynamically determine the next node to execute based on the current state of the graph. Image 10: Introduction to AI Agent with LangChain and LangGraph: A Beginner’s Guide Image 18: How to build LLM Agent with LangGraph\\u200a—\\u200aStateGraph and Reducer Image 20: Simplest Graphs using LangGraph Framework Image 24: Building a ReAct Agent with Langgraph: A Step-by-Step Guide Image 28: Building an Agentic RAG with LangGraph: A Step-by-Step Guide',\n",
       "   'score': 0.65252984,\n",
       "   'raw_content': None}],\n",
       " 'response_time': 0.83}"
      ]
     },
     "execution_count": 1,
     "metadata": {},
     "output_type": "execute_result"
    }
   ],
   "source": [
    "from langchain_tavily import TavilySearch\n",
    "\n",
    "tool = TavilySearch(max_results=2)\n",
    "tools = [tool]\n",
    "tool.invoke(\"What's a 'node' in LangGraph?\")"
   ]
  },
  {
   "cell_type": "code",
   "execution_count": 2,
   "id": "93e9fc0b-1332-4128-966e-55885f28f1dd",
   "metadata": {},
   "outputs": [],
   "source": [
    "from langchain.chat_models import init_chat_model\n",
    "llm = init_chat_model(\"anthropic:claude-3-5-sonnet-latest\")\n"
   ]
  },
  {
   "cell_type": "code",
   "execution_count": 3,
   "id": "8f009e04-21e5-4027-8d0e-ae8683f6d7c1",
   "metadata": {},
   "outputs": [
    {
     "data": {
      "text/plain": [
       "<langgraph.graph.state.StateGraph at 0x1063cab00>"
      ]
     },
     "execution_count": 3,
     "metadata": {},
     "output_type": "execute_result"
    }
   ],
   "source": [
    "from typing import Annotated\n",
    "\n",
    "from typing_extensions import TypedDict\n",
    "\n",
    "from langgraph.graph import StateGraph, START, END\n",
    "from langgraph.graph.message import add_messages\n",
    "\n",
    "class State(TypedDict):\n",
    "    messages: Annotated[list, add_messages]\n",
    "\n",
    "graph_builder = StateGraph(State)\n",
    "\n",
    "# Modification: tell the LLM which tools it can call\n",
    "llm_with_tools = llm.bind_tools(tools)\n",
    "\n",
    "def chatbot(state: State):\n",
    "    return {\"messages\": [llm_with_tools.invoke(state[\"messages\"])]}\n",
    "\n",
    "graph_builder.add_node(\"chatbot\", chatbot)"
   ]
  },
  {
   "cell_type": "code",
   "execution_count": 4,
   "id": "c35c4184-95ab-4b28-82bc-2f8cb566ffdf",
   "metadata": {},
   "outputs": [
    {
     "data": {
      "text/plain": [
       "<langgraph.graph.state.StateGraph at 0x1063cab00>"
      ]
     },
     "execution_count": 4,
     "metadata": {},
     "output_type": "execute_result"
    }
   ],
   "source": [
    "import json\n",
    "\n",
    "from langchain_core.messages import ToolMessage\n",
    "\n",
    "\n",
    "class BasicToolNode:\n",
    "    \"\"\"A node that runs the tools requested in the last AIMessage.\"\"\"\n",
    "\n",
    "    def __init__(self, tools: list) -> None:\n",
    "        self.tools_by_name = {tool.name: tool for tool in tools}\n",
    "\n",
    "    def __call__(self, inputs: dict):\n",
    "        if messages := inputs.get(\"messages\", []):\n",
    "            message = messages[-1]\n",
    "        else:\n",
    "            raise ValueError(\"No message found in input\")\n",
    "        outputs = []\n",
    "        for tool_call in message.tool_calls:\n",
    "            tool_result = self.tools_by_name[tool_call[\"name\"]].invoke(\n",
    "                tool_call[\"args\"]\n",
    "            )\n",
    "            outputs.append(\n",
    "                ToolMessage(\n",
    "                    content=json.dumps(tool_result),\n",
    "                    name=tool_call[\"name\"],\n",
    "                    tool_call_id=tool_call[\"id\"],\n",
    "                )\n",
    "            )\n",
    "        return {\"messages\": outputs}\n",
    "\n",
    "\n",
    "tool_node = BasicToolNode(tools=[tool])\n",
    "graph_builder.add_node(\"tools\", tool_node)"
   ]
  },
  {
   "cell_type": "code",
   "execution_count": 5,
   "id": "562b444a-acad-4894-8ef1-6c5823f2d0a6",
   "metadata": {},
   "outputs": [],
   "source": [
    "def route_tools(\n",
    "    state: State,\n",
    "):\n",
    "    \"\"\"\n",
    "    Use in the conditional_edge to route to the ToolNode if the last message\n",
    "    has tool calls. Otherwise, route to the end.\n",
    "    \"\"\"\n",
    "    if isinstance(state, list):\n",
    "        ai_message = state[-1]\n",
    "    elif messages := state.get(\"messages\", []):\n",
    "        ai_message = messages[-1]\n",
    "    else:\n",
    "        raise ValueError(f\"No messages found in input state to tool_edge: {state}\")\n",
    "    if hasattr(ai_message, \"tool_calls\") and len(ai_message.tool_calls) > 0:\n",
    "        return \"tools\"\n",
    "    return END\n",
    "\n",
    "\n",
    "# The `tools_condition` function returns \"tools\" if the chatbot asks to use a tool, and \"END\" if\n",
    "# it is fine directly responding. This conditional routing defines the main agent loop.\n",
    "graph_builder.add_conditional_edges(\n",
    "    \"chatbot\",\n",
    "    route_tools,\n",
    "    # The following dictionary lets you tell the graph to interpret the condition's outputs as a specific node\n",
    "    # It defaults to the identity function, but if you\n",
    "    # want to use a node named something else apart from \"tools\",\n",
    "    # You can update the value of the dictionary to something else\n",
    "    # e.g., \"tools\": \"my_tools\"\n",
    "    {\"tools\": \"tools\", END: END},\n",
    ")\n",
    "# Any time a tool is called, we return to the chatbot to decide the next step\n",
    "graph_builder.add_edge(\"tools\", \"chatbot\")\n",
    "graph_builder.add_edge(START, \"chatbot\")\n",
    "graph = graph_builder.compile()"
   ]
  },
  {
   "cell_type": "code",
   "execution_count": 6,
   "id": "6042d50d-93dd-421f-9326-0d9b12beb8ee",
   "metadata": {},
   "outputs": [
    {
     "data": {
      "image/png": "[encoded data removed]",
      "text/plain": [
       "<IPython.core.display.Image object>"
      ]
     },
     "metadata": {},
     "output_type": "display_data"
    }
   ],
   "source": [
    "from IPython.display import Image, display\n",
    "\n",
    "try:\n",
    "    display(Image(graph.get_graph().draw_mermaid_png()))\n",
    "except Exception:\n",
    "    # This requires some extra dependencies and is optional\n",
    "    pass"
   ]
  },
  {
   "cell_type": "code",
   "execution_count": null,
   "id": "e9619af3-efc7-48cd-9f2d-cff2961d2197",
   "metadata": {},
   "outputs": [
    {
     "name": "stdin",
     "output_type": "stream",
     "text": [
      "User:  What do you know about LangGraph?\n"
     ]
    },
    {
     "name": "stdout",
     "output_type": "stream",
     "text": [
      "Assistant: [{'text': 'Let me search for information about LangGraph.', 'type': 'text'}, {'id': 'toolu_017BWNBjSBZWAQjiMmE1x9K5', 'input': {'query': 'LangGraph framework python langchain what is it'}, 'name': 'tavily_search', 'type': 'tool_use'}]\n",
      "Assistant: {\"query\": \"LangGraph framework python langchain what is it\", \"follow_up_questions\": null, \"answer\": null, \"images\": [], \"results\": [{\"url\": \"https://www.langchain.com/langgraph\", \"title\": \"LangGraph - LangChain\", \"content\": \"Design agent-driven user experiences with LangGraph Platform's APIs. Quickly deploy and scale your application with infrastructure built for agents. LangGraph sets the foundation for how we can build and scale AI workloads \\u2014 from conversational agents, complex task automation, to custom LLM-backed experiences that 'just work'. The next chapter in building complex production-ready features with LLMs is agentic, and with LangGraph and LangSmith, LangChain delivers an out-of-the-box solution to iterate quickly, debug immediately, and scale effortlessly.\\u201d LangGraph sets the foundation for how we can build and scale AI workloads \\u2014 from conversational agents, complex task automation, to custom LLM-backed experiences that 'just work'. LangGraph Platform is a service for deploying and scaling LangGraph applications, with an opinionated API for building agent UXs, plus an integrated developer studio.\", \"score\": 0.76385427, \"raw_content\": null}, {\"url\": \"https://www.curotec.com/insights/langchain-vs-langgraph-framework-comparison/\", \"title\": \"LangChain vs. LangGraph: Which AI Framwork Is Right for You?\", \"content\": \"*   [Application Development](https://www.curotec.com/services/application-development/) *   [Web Development](https://www.curotec.com/services/web-development/) *   [AI / ML](https://www.curotec.com/services/ai-ml-development/) *   [Node.js](https://www.curotec.com/services/technologies/nodejs/) *   [WordPress](https://www.curotec.com/services/web-development/wordpress/) *   [Nearshoring](https://www.curotec.com/services/nearshore-software-development/) *   [Application Development](https://www.curotec.com/services/application-development/) *   [Web Development](https://www.curotec.com/services/web-development/) *   [AI / ML](https://www.curotec.com/services/ai-ml-development/) *   [Node.js](https://www.curotec.com/services/technologies/nodejs/) *   [WordPress](https://www.curotec.com/services/web-development/wordpress/) *   [Nearshoring](https://www.curotec.com/services/nearshore-software-development/) Flexibility: LangChain supports both pre-built and custom models, adaptable to projects of any size or complexity, allowing developers to tailor solutions precisely to their needs. Seamless Integration: LangChain interfaces seamlessly with APIs and tools like OpenAI\\u2019s GPT and Hugging Face, enhancing its capabilities and allowing the integration of cutting-edge AI technologies. LangChain, LangGraph, and LangSmith together form a powerful AI toolkit. LangChain helps you process language data, LangGraph maps relationships within that data, and LangSmith ensures everything runs smoothly. Making the right choice between LangChain and LangGraph can significantly impact the success of your AI project.\", \"score\": 0.68318754, \"raw_content\": null}], \"response_time\": 1.23}\n",
      "Assistant: [{'text': 'Let me search for more specific technical details about LangGraph.', 'type': 'text'}, {'id': 'toolu_01JSqoz9uSFWU27zt8887hUt', 'input': {'query': 'LangGraph technical details implementation python how to use'}, 'name': 'tavily_search', 'type': 'tool_use'}]\n",
      "Assistant: {\"query\": \"LangGraph technical details implementation python how to use\", \"follow_up_questions\": null, \"answer\": null, \"images\": [], \"results\": [{\"url\": \"https://www.youtube.com/watch?v=jGg_1h0qzaM\", \"title\": \"LangGraph Complete Course for Beginners \\u2013 Complex AI Agents ...\", \"content\": \"LangGraph Complete Course for Beginners \\u2013 Complex AI Agents with Python\\n\\nfreeCodeCamp.org\\n2145 likes\\n63179 views\\n20 May 2025\\nWelcome to this video course on LangGraph, the powerful Python library for building advanced conversational AI workflows. In this course, Vaibhav Mehra will teach you how to design, implement, and manage complex dialogue systems using a graph-based approach. By the end, you'll be equipped to build robust, scalable conversational applications that leverage the full potential of large language models.\\n\\nCode: https://github.com/Vaibhav807/LangGraph-Course\\n\\nVaibhav Mehra on LinkedIn: https://www.linkedin.com/in/vaibhav-mehra-main/\\n\\n\\u2764\\ufe0f Support for this channel comes from our friends at Scrimba \\u2013 the coding platform that's reinvented interactive learning: https://scrimba.com/freecodecamp\\n\\n\\u2b50\\ufe0f Contents \\u2b50\\ufe0f\\n\\u2328\\ufe0f (0:00:00) Introduction\\n\\u2328\\ufe0f (0:26:58) Type Annotations\\n\\u2328\\ufe0f (0:34:09) Elements\\n\\u2328\\ufe0f (0:44:13) Agent 1 Intro\\n\\u2328\\ufe0f (0:46:42) Agent 1 Code\\n\\u2328\\ufe0f (0:57:56) Agent 1 Exercise\\n\\u2328\\ufe0f (0:58:41) Agent 2 Intro\\n\\u2328\\ufe0f (0:59:36) Agent 2 Code\\n\\u2328\\ufe0f (1:09:01) Agent 2 Exercise\\n\\u2328\\ufe0f (1:10:03) Agent 3 Intro\\n\\u2328\\ufe0f (1:10:52) Agent 3 Code\\n\\u2328\\ufe0f (1:19:38) Agent 3 Exercise\\n\\u2328\\ufe0f (1:21:10) Agent 4 Intro\\n\\u2328\\ufe0f (1:22:11) Agent 4 Code\\n\\u2328\\ufe0f (1:38:43) Agent 4 Exercise\\n\\u2328\\ufe0f (1:39:48) Agent 5 Intro\\n\\u2328\\ufe0f (1:41:19) Agent 5 Code\\n\\u2328\\ufe0f (1:54:53) Agent 5 Exercise\\n\\u2328\\ufe0f (1:56:35) AI Agent 1 Intro\\n\\u2328\\ufe0f (1:58:23) AI Agent 1 Code\\n\\u2328\\ufe0f (2:08:28) AI Agent 2 Intro\\n\\u2328\\ufe0f (2:09:32) AI Agent 2 Code\\n\\u2328\\ufe0f (2:28:54) AI Agent 3 Intro\\n\\u2328\\ufe0f (2:30:34) AI Agent 3 Prerequisite\\n\\u2328\\ufe0f (2:38:02) AI Agent 3 Code\\n\\u2328\\ufe0f (2:54:20) AI Agent 4 Intro\\n\\u2328\\ufe0f (2:56:33) AI Agent 4 Code\\n\\u2328\\ufe0f (3:17:43) RAG Agent Intro\\n\\u2328\\ufe0f (3:18:35) RAG Agent Code\\n\\u2328\\ufe0f (3:31:49) RAG Agent Testing\\n\\u2328\\ufe0f (3:34:38) Course Outro\\n\\n\\ud83c\\udf89 Thanks to our Champion and Sponsor supporters:\\n\\ud83d\\udc7e Drake Milly\\n\\ud83d\\udc7e Ulises Moralez\\n\\ud83d\\udc7e Goddard Tan\\n\\ud83d\\udc7e David MG\\n\\ud83d\\udc7e Matthew Springman\\n\\ud83d\\udc7e Claudio\\n\\ud83d\\udc7e Oscar R.\\n\\ud83d\\udc7e jedi-or-sith\\n\\ud83d\\udc7e Nattira Maneerat\\n\\ud83d\\udc7e Justin Hual\\n\\n--\\n\\nLearn to code for free and get a developer job: https://www.freecodecamp.org\\n\\nRead hundreds of articles on programming: https://freecodecamp.org/news\\n81 comments\", \"score\": 0.5786631, \"raw_content\": null}, {\"url\": \"https://langchain-ai.github.io/langgraph/concepts/why-langgraph/\", \"title\": \"Learn LangGraph basics - Overview\", \"content\": \"LangGraph  *   - [x]  LangGraph basics   LangGraph basics   *   Learn LangGraph basics *   - [x]  LangGraph framework   LangGraph framework   *   - [x]  LangGraph Platform   LangGraph Platform   *   Learn LangGraph basics LangGraph is built for developers who want to build powerful, adaptable AI agents. *   **Reliability and controllability.** Steer agent actions with moderation checks and human-in-the-loop approvals. LangGraph persists context for long-running workflows, keeping your agents on course. *   **First-class streaming support.** With token-by-token streaming and streaming of intermediate steps, LangGraph gives users clear visibility into agent reasoning and actions as they unfold in real time. 4.   Add human-in-the-loop controls In completing this series of tutorials, you will build a support chatbot in LangGraph that can: *   \\u2705 **Use custom state** to control its behavior \", \"score\": 0.40126598, \"raw_content\": null}], \"response_time\": 1.01}\n",
      "Assistant: Based on the search results, I can provide you with comprehensive information about LangGraph:\n",
      "\n",
      "LangGraph is a framework developed by LangChain that's designed for building and scaling AI workloads, particularly focused on agent-driven experiences. Here are the key points about LangGraph:\n",
      "\n",
      "1. Purpose and Functionality:\n",
      "- It's specifically designed for building complex AI agents and workflows\n",
      "- Enables the creation of conversational agents and complex task automation\n",
      "- Provides a graph-based approach to designing AI workflows\n",
      "- Sets the foundation for building scalable AI workloads\n",
      "\n",
      "2. Key Features:\n",
      "- First-class streaming support with token-by-token streaming and visibility into agent reasoning\n",
      "- Reliability and controllability features for steering agent actions\n",
      "- Support for moderation checks and human-in-the-loop approvals\n",
      "- Persistence of context for long-running workflows\n",
      "- Seamless integration with other LangChain ecosystem tools\n",
      "\n",
      "3. Platform Components:\n",
      "- LangGraph is part of a larger ecosystem that includes:\n",
      "  - LangChain (for processing language data)\n",
      "  - LangGraph (for mapping relationships within data)\n",
      "  - LangSmith (for ensuring smooth operation)\n",
      "  - LangGraph Platform (for deployment and scaling)\n",
      "\n",
      "4. Use Cases:\n",
      "- Building conversational agents\n",
      "- Complex task automation\n",
      "- Custom LLM-backed experiences\n",
      "- Support chatbots with custom state management\n",
      "- RAG (Retrieval-Augmented Generation) applications\n",
      "\n",
      "5. Developer Benefits:\n",
      "- Quick iteration capabilities\n",
      "- Immediate debugging\n",
      "- Scalable infrastructure\n",
      "- Integrated developer studio\n",
      "- API-driven development for agent user experiences\n",
      "\n",
      "LangGraph is particularly useful when you need to build complex, production-ready features with LLMs that require agentic behavior. It's designed to work in conjunction with other LangChain tools to provide a complete solution for building sophisticated AI applications.\n",
      "\n",
      "The framework emphasizes the ability to create reliable, controllable, and observable AI agents, making it particularly valuable for production environments where visibility into agent behavior and the ability to maintain control over AI workflows are crucial.\n"
     ]
    }
   ],
   "source": [
    "def stream_graph_updates(user_input: str):\n",
    "    for event in graph.stream({\"messages\": [{\"role\": \"user\", \"content\": user_input}]}):\n",
    "        for value in event.values():\n",
    "            print(\"Assistant:\", value[\"messages\"][-1].content)\n",
    "\n",
    "while True:\n",
    "    try:\n",
    "        user_input = input(\"User: \")\n",
    "        if user_input.lower() in [\"quit\", \"exit\", \"q\"]:\n",
    "            print(\"Goodbye!\")\n",
    "            break\n",
    "\n",
    "        stream_graph_updates(user_input)\n",
    "    except:\n",
    "        # fallback if input() is not available\n",
    "        user_input = \"What do you know about LangGraph?\"\n",
    "        print(\"User: \" + user_input)\n",
    "        stream_graph_updates(user_input)\n",
    "        break"
   ]
  },
  {
   "cell_type": "code",
   "execution_count": null,
   "id": "5b930c74-4813-45f8-ad97-ee49ee64731b",
   "metadata": {},
   "outputs": [],
   "source": []
  }
 ],
 "metadata": {
  "kernelspec": {
   "display_name": "Python 3 (ipykernel)",
   "language": "python",
   "name": "python3"
  },
  "language_info": {
   "codemirror_mode": {
    "name": "ipython",
    "version": 3
   },
   "file_extension": ".py",
   "mimetype": "text/x-python",
   "name": "python",
   "nbconvert_exporter": "python",
   "pygments_lexer": "ipython3",
   "version": "3.10.18"
  }
 },
 "nbformat": 4,
 "nbformat_minor": 5
}
